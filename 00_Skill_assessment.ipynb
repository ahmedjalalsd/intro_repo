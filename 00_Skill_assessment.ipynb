{
  "nbformat": 4,
  "nbformat_minor": 0,
  "metadata": {
    "colab": {
      "name": "00 Skill assessment.ipynb",
      "provenance": [],
      "collapsed_sections": [],
      "include_colab_link": true
    },
    "kernelspec": {
      "name": "python3",
      "display_name": "Python 3"
    },
    "language_info": {
      "name": "python"
    }
  },
  "cells": [
    {
      "cell_type": "markdown",
      "metadata": {
        "id": "view-in-github",
        "colab_type": "text"
      },
      "source": [
        "<a href=\"https://colab.research.google.com/github/ahmedjalalsd/intro_repo/blob/main/00_Skill_assessment.ipynb\" target=\"_parent\"><img src=\"https://colab.research.google.com/assets/colab-badge.svg\" alt=\"Open In Colab\"/></a>"
      ]
    },
    {
      "cell_type": "markdown",
      "metadata": {
        "id": "-vVXrDTXbDzp"
      },
      "source": [
        "### Exercise 1 - printing\n",
        "---\n",
        "Print \"hello world\"\n",
        "\n",
        "**Expected Output**  \n",
        "hello world "
      ]
    },
    {
      "cell_type": "code",
      "metadata": {
        "colab": {
          "base_uri": "https://localhost:8080/"
        },
        "id": "BEIsK56aG8B7",
        "outputId": "e9dd8824-eb85-48b5-cbba-1b1d37a172af"
      },
      "source": [
        "\n",
        "print(\"hello world\")"
      ],
      "execution_count": 1,
      "outputs": [
        {
          "output_type": "stream",
          "name": "stdout",
          "text": [
            "hello world\n"
          ]
        }
      ]
    },
    {
      "cell_type": "markdown",
      "metadata": {
        "id": "n-u42LuZbPc2"
      },
      "source": [
        "### Exercise 2 - using input\n",
        "---\n",
        "Create an input that asks for the user's name and stores it in a variable called name and `print` it \n",
        "\n",
        "**Test Input**  \n",
        "Marianne \n",
        "\n",
        "**Expected Output**  \n",
        "Marianne "
      ]
    },
    {
      "cell_type": "code",
      "metadata": {
        "id": "02KvhKPdbZW-",
        "colab": {
          "base_uri": "https://localhost:8080/"
        },
        "outputId": "39012c14-011b-4118-f588-15c9ad4b208f"
      },
      "source": [
        "username = input(\"Enter name:\")\n",
        "print(username)"
      ],
      "execution_count": 2,
      "outputs": [
        {
          "output_type": "stream",
          "name": "stdout",
          "text": [
            "Enter name:Marianne\n",
            "Marianne\n"
          ]
        }
      ]
    },
    {
      "cell_type": "markdown",
      "metadata": {
        "id": "oXpvEknHbZvz"
      },
      "source": [
        "### Exercise 3 - operators and datatypes\n",
        "---\n",
        "\n",
        "Create 2 variables called **num1** and **num2** which each store an input function which asks for a whole number and stores it as an integer\n",
        "\n",
        "Create a third variable called **num3** which sums **num1** and **num2** together\n",
        "\n",
        "**Test Input**  \n",
        "11  \n",
        "22  \n",
        "\n",
        "**Expected Output**  \n",
        "33\n"
      ]
    },
    {
      "cell_type": "code",
      "metadata": {
        "id": "WVnfbWjdcJPD",
        "colab": {
          "base_uri": "https://localhost:8080/"
        },
        "outputId": "f8aa1552-debe-4260-aada-5781645a4e65"
      },
      "source": [
        "num1 = input(\"Enter a whole number: \")\n",
        "num2 = input(\"Enter another whole number: \")\n",
        "num3 = int(num1) + int(num2)\n",
        "print(num3)"
      ],
      "execution_count": 10,
      "outputs": [
        {
          "output_type": "stream",
          "name": "stdout",
          "text": [
            "Enter a whole number: 11\n",
            "Enter another whole number: 22\n",
            "33\n"
          ]
        }
      ]
    },
    {
      "cell_type": "markdown",
      "metadata": {
        "id": "EDPftM6dcJzK"
      },
      "source": [
        "### Exercise 4 - using if/else\n",
        "---\n",
        "\n",
        "Use `if` to sum two inputed integers. However, if the sum is between 15 to 20 it will print 20, else return the correct sum\n",
        "\n",
        "**Test Input**  \n",
        "3  \n",
        "15  \n",
        "\n",
        "**Expected Output**  \n",
        "20"
      ]
    },
    {
      "cell_type": "code",
      "metadata": {
        "id": "JPXearXfdPZS",
        "colab": {
          "base_uri": "https://localhost:8080/"
        },
        "outputId": "16a6ead1-8ebd-4e19-bc9a-303bc07d5778"
      },
      "source": [
        "if(num3 >= 15 and num3 <=20):\n",
        "  print(20)\n",
        "else:\n",
        "  print(num3)"
      ],
      "execution_count": 11,
      "outputs": [
        {
          "output_type": "stream",
          "name": "stdout",
          "text": [
            "33\n"
          ]
        }
      ]
    },
    {
      "cell_type": "markdown",
      "metadata": {
        "id": "c7hKrWgIdPrr"
      },
      "source": [
        "### Exercise 5 - using for loops\n",
        "---\n",
        "`Print` each letter of the string \"supercalifragilistic\" using a `for` loop\n",
        "\n",
        "**Expected Output**   \n",
        "s  \n",
        "u  \n",
        "p  \n",
        "e  \n",
        "r  \n",
        "c  \n",
        "a  \n",
        "l  \n",
        "i  \n",
        "f  \n",
        "r  \n",
        "a  \n",
        "g  \n",
        "i  \n",
        "l  \n",
        "i  \n",
        "s  \n",
        "t  \n",
        "i  \n",
        "c  "
      ]
    },
    {
      "cell_type": "code",
      "metadata": {
        "id": "bxE5C2jYdg2w",
        "colab": {
          "base_uri": "https://localhost:8080/"
        },
        "outputId": "582c3859-776a-4c43-8df7-a25b6961549e"
      },
      "source": [
        "for letter in \"supercalifragilistic\":\n",
        "  print(letter)"
      ],
      "execution_count": 12,
      "outputs": [
        {
          "output_type": "stream",
          "name": "stdout",
          "text": [
            "s\n",
            "u\n",
            "p\n",
            "e\n",
            "r\n",
            "c\n",
            "a\n",
            "l\n",
            "i\n",
            "f\n",
            "r\n",
            "a\n",
            "g\n",
            "i\n",
            "l\n",
            "i\n",
            "s\n",
            "t\n",
            "i\n",
            "c\n"
          ]
        }
      ]
    },
    {
      "cell_type": "markdown",
      "metadata": {
        "id": "Bf_wev6UdhPH"
      },
      "source": [
        "### Exercise 6 - using while loops\n",
        "---\n",
        "Write a program that asks the user to enter a positive number.\n",
        "`if` the number entered is not positive (ie it is less than 0) the user will be shown an error message and asked to enter the number again. `if` a positive number is entered, the program should print \"Thankyou, goodbye\"\n",
        "\n",
        "**Test Input**   \n",
        "-1   \n",
        "4 \n",
        "\n",
        "\n",
        "**Expected Output**  \n",
        "Error   \n",
        "Thankyou, goodbye"
      ]
    },
    {
      "cell_type": "code",
      "metadata": {
        "id": "muSpMY4vdtfD",
        "colab": {
          "base_uri": "https://localhost:8080/"
        },
        "outputId": "ec56dc1e-78ef-4b3d-f167-a23e62f39d41"
      },
      "source": [
        "user_num = int(input(\"Enter a postive number\"))\n",
        "if (user_num >= 0 ):\n",
        "  print(\"Thankyou,goodbye\")\n",
        "else:\n",
        "  print(\"error\")"
      ],
      "execution_count": 13,
      "outputs": [
        {
          "output_type": "stream",
          "name": "stdout",
          "text": [
            "Enter a postive number-3\n",
            "error\n"
          ]
        }
      ]
    },
    {
      "cell_type": "markdown",
      "metadata": {
        "id": "Q-drRJ2kdt4g"
      },
      "source": [
        "### Exercise 7 - lists \n",
        "---\n",
        "The `sorted()` function will sort a list.\n",
        "Create a list of 5 numbers and use the sorted function to sort them, storing the sorted list in a variabled called **sorted_list**\n",
        "\n",
        "**Test Input**  \n",
        "[1, 87, -1, 8, 21]\n",
        "\n",
        "**Expected Output**  \n",
        "[-1, 1, 8, 21, 87]"
      ]
    },
    {
      "cell_type": "code",
      "metadata": {
        "id": "W4MxMJ1ieGqe",
        "colab": {
          "base_uri": "https://localhost:8080/"
        },
        "outputId": "7610f504-fc0e-4436-f706-de430057861b"
      },
      "source": [
        "lst = [-1,87,1,8,21]\n",
        "sorted_list= sorted(lst)\n",
        "print(sorted_list)"
      ],
      "execution_count": 15,
      "outputs": [
        {
          "output_type": "stream",
          "name": "stdout",
          "text": [
            "[-1, 1, 8, 21, 87]\n"
          ]
        }
      ]
    },
    {
      "cell_type": "markdown",
      "metadata": {
        "id": "ZL0wbkQPeG6j"
      },
      "source": [
        "### Exercise 8 - dictionaries \n",
        "---\n",
        "Add an empty dictionary for a person (name, age and postcode). Read a person's details using the `input()` function and store them in your dictionary. \n",
        "\n",
        "Make sure that the entered age is a number. \n",
        "\n",
        "Print the dictionary.  \n",
        "\n",
        "**Test Input**  \n",
        "Dave  \n",
        "24  \n",
        "SE11AB  \n",
        "\n",
        "**Expected Output**  \n",
        "{'name': 'Dave', 'age': 24, 'postcode': 'SE11AB'}"
      ]
    },
    {
      "cell_type": "code",
      "metadata": {
        "id": "jZc7zRAkeglf",
        "colab": {
          "base_uri": "https://localhost:8080/"
        },
        "outputId": "2f60717d-550a-44d0-9f74-28aac68ede99"
      },
      "source": [
        "\n",
        "person_dict = {}\n",
        "name = input(\"Your Name: \")\n",
        "age = int(input(\"Your age: \"))\n",
        "postode = input(\"Your Postode: \")\n",
        "person_dict[\"name\"] = name\n",
        "person_dict[\"Age\"] = age\n",
        "person_dict[\"postode\"] = postode\n",
        "\n",
        "print(person_dict)"
      ],
      "execution_count": 16,
      "outputs": [
        {
          "output_type": "stream",
          "name": "stdout",
          "text": [
            "Your NameDave\n",
            "Your age24\n",
            "Your PostodeSE11AB\n",
            "{'name': 'Dave', 'Age': 24, 'postode': 'SE11AB'}\n"
          ]
        }
      ]
    },
    {
      "cell_type": "markdown",
      "metadata": {
        "id": "lpT0N5HqehHK"
      },
      "source": [
        "### Exercise 9 - functions, lists and loops\n",
        "---\n",
        "Write a function to create and `print` a list where the values are square of numbers between 1 and 30 (both included).\n",
        "\n",
        "**Expected Output**  \n",
        "[0, 1, 4, 9, 16, 25, 36, 49, 64, 81, 100, 121, 144, 169, 196, 225, 256, 289, 324, 361, 400, 441, 484, 529, 576, 625, 676, 729, 784, 841, 900]\n"
      ]
    },
    {
      "cell_type": "code",
      "metadata": {
        "id": "_h6r0hAce7ro",
        "colab": {
          "base_uri": "https://localhost:8080/"
        },
        "outputId": "67a93af0-5e2b-4bc6-dae0-ce60ad2cf3e8"
      },
      "source": [
        "def lst_create() :\n",
        "  lst = []\n",
        "  for el in range(31):\n",
        "    lst.append(el**2)\n",
        "  return lst\n",
        "\n",
        "print(lst_create())"
      ],
      "execution_count": 19,
      "outputs": [
        {
          "output_type": "stream",
          "name": "stdout",
          "text": [
            "[0, 1, 4, 9, 16, 25, 36, 49, 64, 81, 100, 121, 144, 169, 196, 225, 256, 289, 324, 361, 400, 441, 484, 529, 576, 625, 676, 729, 784, 841, 900]\n"
          ]
        }
      ]
    },
    {
      "cell_type": "markdown",
      "metadata": {
        "id": "GPoXDPh2e8LB"
      },
      "source": [
        "### Exercise 10 - functions\n",
        "---\n",
        "Create a function called **show_mood** that takes in a current mood as a parameter of the function and `return` a sentence in the following format: \"Today, I am feeling {mood}\". However, `if` an empty string is passed, `return` \"Today, I am feeling neutral\".\n",
        "\n",
        "**Test input**  \n",
        "show_mood(\"happy\")    \n",
        "show_mood(\"sad\")  \n",
        "show_mood(\"\")   \n",
        "\n",
        "**Expected output**  \n",
        "\"Today, I am feeling happy\"  \n",
        "\"Today, I am feeling sad\"  \n",
        "\"Today, I am feeling neutral\"   \n",
        "\n"
      ]
    },
    {
      "cell_type": "code",
      "metadata": {
        "id": "SvF1CessfoqC",
        "colab": {
          "base_uri": "https://localhost:8080/"
        },
        "outputId": "95074f48-e2f4-4fb6-ba65-550370e37c21"
      },
      "source": [
        "def show_mood(mood):\n",
        "  if (mood):\n",
        "    return \"Today, I am feeling \" + mood \n",
        "  else:\n",
        "    return \"Today, I am feeling neutral\"\n",
        "\n",
        "print(show_mood(\"sad\"))"
      ],
      "execution_count": 21,
      "outputs": [
        {
          "output_type": "stream",
          "name": "stdout",
          "text": [
            "Today, I am feeling sad\n"
          ]
        }
      ]
    },
    {
      "cell_type": "markdown",
      "metadata": {
        "id": "9U9rREgKumh1"
      },
      "source": [
        "### OPTIONAL Challenge\n",
        "---\n",
        "Create a function called **show_mood** that takes in a current mood as a parameter of the function and `return` a sentence in the following format: \"Today, I am feeling {mood}\". **However, if *no argument* is passed, it will assume that the mood is neutral**.\n",
        "\n",
        "**Test input**  \n",
        "show_mood(\"happy\")    \n",
        "show_mood(\"sad\")  \n",
        "show_mood()   \n",
        "\n",
        "**Expected output**  \n",
        "\"Today, I am feeling happy\"  \n",
        "\"Today, I am feeling sad\"  \n",
        "\"Today, I am feeling neutral\"   "
      ]
    },
    {
      "cell_type": "code",
      "metadata": {
        "outputId": "ca62d4d1-d791-497c-b0a6-83bcc90f7b0a",
        "colab": {
          "base_uri": "https://localhost:8080/"
        },
        "id": "dgxa8EhDNunB"
      },
      "source": [
        "def show_mood(mood):\n",
        "  if (mood):\n",
        "    return \"Today, I am feeling \" + mood \n",
        "  else:\n",
        "    return \"Today, I am feeling neutral\"\n",
        "\n",
        "print(show_mood(\"happy\"))"
      ],
      "execution_count": 22,
      "outputs": [
        {
          "output_type": "stream",
          "name": "stdout",
          "text": [
            "Today, I am feeling happy\n"
          ]
        }
      ]
    }
  ]
}