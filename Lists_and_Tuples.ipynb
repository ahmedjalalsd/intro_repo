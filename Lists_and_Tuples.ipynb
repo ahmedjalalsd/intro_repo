{
  "nbformat": 4,
  "nbformat_minor": 0,
  "metadata": {
    "colab": {
      "name": "Lists and Tuples.ipynb",
      "provenance": [],
      "collapsed_sections": [],
      "include_colab_link": true
    },
    "kernelspec": {
      "name": "python3",
      "display_name": "Python 3"
    },
    "language_info": {
      "name": "python"
    }
  },
  "cells": [
    {
      "cell_type": "markdown",
      "metadata": {
        "id": "view-in-github",
        "colab_type": "text"
      },
      "source": [
        "<a href=\"https://colab.research.google.com/github/ahmedjalalsd/intro_repo/blob/main/Lists_and_Tuples.ipynb\" target=\"_parent\"><img src=\"https://colab.research.google.com/assets/colab-badge.svg\" alt=\"Open In Colab\"/></a>"
      ]
    },
    {
      "cell_type": "markdown",
      "metadata": {
        "id": "Z-M-RCWATK71"
      },
      "source": [
        "# Lists and tuples\n",
        "\n",
        "Often we need to store a number of single items of data together so that they can be processed together. This might be because all the data refers to one person (e.g. name, age, gender, etc) OR it might be because we have a set of data (e.g. all the items that should be displayed in a drop down list, such as all the years from this year back to 100 years ago so that someone can select their year of birth)\n",
        "\n",
        "Python has a range of data structures available including:\n",
        "*   lists  \n",
        "*   tuples  \n",
        "*   dictionaries  \n",
        "*   sets\n",
        "\n",
        "This worksheet looks at lists and tuples.\n",
        "\n",
        "## List\n",
        "A list is a set of related, individual data objects, that are indexed and can be processed as a whole, as subsets or as individual items.  Lists are stored, essentially, as contiguous items in memory so that access can be as quick as possible.  However, they are mutable (they can be changed after they are created and stored) and so those mechanisms need to include extra functionality to deal with changing list sizes.\n",
        "\n",
        "## Tuple\n",
        "Essentially the same as a list but it is immutable.  Once it has been created it can't be changed.  It is stored in memory as contiguous items, with the size required being fixed right from the start.  This makes it faster to access.\n",
        "\n",
        "The code below will create two lists and a tuple.\n",
        "*   the first list contains 1000 random numbers between 1 and 100\n",
        "*   the second list is of random length (up to 5000) and each item is one of the 9 characteristics that are protected under the Equality Act in the UK.\n",
        "*   the tuple contains the 9 protected characteristics\n",
        "\n",
        "Before you start the exercises, run the code below.  It will generate the lists and tuple so that you can use them in the exercises.  If you need to recreate the lists again (because you have changed them and need to work on the originals, just run this cell again).\n",
        "\n",
        "***Note:***  *a list variable contains a reference to the start of the list in memory, rather than storing the list itself.  This means that if you assign the list to another variable (to make a copy), it will only copy across the reference.  If you change the copy, you change the original list.*\n",
        "\n",
        "*If you need to make a copy of the list you will need to use a loop to create a new list and copy all items across.*"
      ]
    },
    {
      "cell_type": "code",
      "metadata": {
        "id": "BDRckXeQXFMT"
      },
      "source": [
        "from random import randint, choice\n",
        "\n",
        "def get_num_list():\n",
        "  num_list = [randint(1,100) for n in range(1000)]\n",
        "  return num_list\n",
        "\n",
        "def get_protected_characteristics():\n",
        "  characteristics_tuple = ('age','disability','gender reassignment','marriage and civil partnership','pregnancy and maternity','race','religion or belief','sex','sexual orientation')\n",
        "  return characteristics_tuple\n",
        "\n",
        "def get_protected_characteristic_list(protected_characteristics):\n",
        "  char_list = [choice(protected_characteristics) for ch in range(randint(1,5000))]\n",
        "  return char_list\n",
        "\n",
        "nums = get_num_list()\n",
        "protected_characteristics = get_protected_characteristics()\n",
        "characteristics = get_protected_characteristic_list(protected_characteristics)"
      ],
      "execution_count": 1,
      "outputs": []
    },
    {
      "cell_type": "markdown",
      "metadata": {
        "id": "xXT38-4ZV45n"
      },
      "source": [
        "## The exercises below will use the lists:  \n",
        "*   **nums** (a list of between 1 and 1000 random numbers, each number is between 0 and 1000)\n",
        "*   **characteristics** (a list of 5000 random protected_characteristics)\n",
        "\n",
        "and the tuple:\n",
        "*  **protected_characteristics** (a set of the 9 protected characteristics identified in the Equality Act)\n",
        "\n",
        "## You can run the cell above any number of times to generate new lists."
      ]
    },
    {
      "cell_type": "markdown",
      "metadata": {
        "id": "Ft0dXl7fUuaK"
      },
      "source": [
        "---\n",
        "### Exercise 1 - list head, tail and shape\n",
        "\n",
        "Write a function, **describe_list()** which will:\n",
        "*  print the length of the list `nums`\n",
        "*  print the first 10 items in `nums`  \n",
        "*  print the last 5 items in `nums`"
      ]
    },
    {
      "cell_type": "code",
      "metadata": {
        "id": "jUcZD7mmTJdA",
        "outputId": "b01667ff-42c5-4700-bdcc-4b92c49de234",
        "colab": {
          "base_uri": "https://localhost:8080/"
        }
      },
      "source": [
        "def desribe_list(nums):\n",
        "  nums_len = len(nums)\n",
        "  print(\"length\", nums_len)\n",
        "  print(\"First 10 numbers: \")\n",
        "  for i in range(10):\n",
        "    print(nums[i])\n",
        "  print(\"Last 5 numbers: \")\n",
        "  for j in range(5, 0, -1):\n",
        "    print(nums[j])\n",
        "\n",
        "desribe_list(nums)"
      ],
      "execution_count": 5,
      "outputs": [
        {
          "output_type": "stream",
          "name": "stdout",
          "text": [
            "length 1000\n",
            "First 10 numbers: \n",
            "63\n",
            "98\n",
            "36\n",
            "23\n",
            "91\n",
            "52\n",
            "74\n",
            "91\n",
            "97\n",
            "96\n",
            "Last 5 numbers: \n",
            "52\n",
            "91\n",
            "23\n",
            "36\n",
            "98\n"
          ]
        }
      ]
    },
    {
      "cell_type": "markdown",
      "metadata": {
        "id": "yNWg08k6bXv0"
      },
      "source": [
        "---\n",
        "### Exercise 2 - show tuple items\n",
        "\n",
        "Write a function which will:\n",
        "*   use a loop to print the list of protected characteristics from the `protected_characteristics` tuple.\n"
      ]
    },
    {
      "cell_type": "code",
      "metadata": {
        "id": "P2HnCG9pb1BS",
        "outputId": "a8b8abf8-dd75-41f4-c0e7-2ac4d3d0da24",
        "colab": {
          "base_uri": "https://localhost:8080/"
        }
      },
      "source": [
        "def dispay_tuple(tuple_pro):\n",
        "  for i in range(len(tuple_pro)):\n",
        "    print(tuple_pro[i])\n",
        "\n",
        "dispay_tuple(protected_characteristics)"
      ],
      "execution_count": 7,
      "outputs": [
        {
          "output_type": "stream",
          "name": "stdout",
          "text": [
            "age\n",
            "disability\n",
            "gender reassignment\n",
            "marriage and civil partnership\n",
            "pregnancy and maternity\n",
            "race\n",
            "religion or belief\n",
            "sex\n",
            "sexual orientation\n"
          ]
        }
      ]
    },
    {
      "cell_type": "markdown",
      "metadata": {
        "id": "RTSuQZs4b1JU"
      },
      "source": [
        "---\n",
        "### Exercise 3 - list a random subset\n",
        "\n",
        "Write a function which will:\n",
        "*  calculate the position of the middle item in the `characteristics` list   \n",
        "(*Hint: use len() to help with this*)\n",
        "*  calculate the position of the item that is 5 places before the middle item\n",
        "*  calculate the position of the item that is 5 places after the middle item\n",
        "*  print the part of the list that includes the items from 5 places before to 5 places after.  \n",
        "\n",
        "Expected output:  \n",
        "Your list will include 11 items."
      ]
    },
    {
      "cell_type": "code",
      "metadata": {
        "id": "OwhFnH2kdC11",
        "outputId": "74511686-a0a7-4de3-dcf2-26d297801ec2",
        "colab": {
          "base_uri": "https://localhost:8080/"
        }
      },
      "source": [
        "def midd(lst):\n",
        "  print(len(lst))\n",
        "  mid = len(lst) // 2\n",
        "  print(mid)\n",
        "  before_mid = mid-5\n",
        "  after_mid = mid+5\n",
        "  after = lst[mid:after_mid]\n",
        "  before = lst[before_mid : mid+1]\n",
        "  new_lst = before+after\n",
        "  print(len(new_lst))\n",
        "  return new_lst\n",
        "\n",
        "print(midd(characteristics))"
      ],
      "execution_count": 22,
      "outputs": [
        {
          "output_type": "stream",
          "name": "stdout",
          "text": [
            "2234\n",
            "1117\n",
            "11\n",
            "['sex', 'gender reassignment', 'sexual orientation', 'sexual orientation', 'sexual orientation', 'pregnancy and maternity', 'pregnancy and maternity', 'age', 'race', 'gender reassignment', 'sex']\n"
          ]
        }
      ]
    },
    {
      "cell_type": "markdown",
      "metadata": {
        "id": "KS0x3oFNePI9"
      },
      "source": [
        "---\n",
        "### Exercise 4 - create a copy\n",
        "\n",
        "Write a function which will: use a for loop to create a copy of the `nums` list:\n",
        "\n",
        "*   create a new, empty, list called **new_nums**  (*Hint: an empty list is [ ]*)\n",
        "*   use a for loop which uses the following syntax:  `for num in nums:`\n",
        "*   each time round the loop append `num` to `new_nums`  ( *`new_nums.append(num)`*)\n",
        "*   print the first 10 items of `new_nums`\n",
        "*   print the first 10 items of `nums`\n",
        "*   print the length of both lists"
      ]
    },
    {
      "cell_type": "code",
      "metadata": {
        "id": "mpK1Ip3we-uC",
        "outputId": "9a4ac458-35de-4ece-bfa0-6998a0d08a4b",
        "colab": {
          "base_uri": "https://localhost:8080/"
        }
      },
      "source": [
        "def opy_lst(nums):\n",
        "  new_nums = []\n",
        "  for num in nums:\n",
        "    new_nums.append(num)\n",
        "  print(\"new nums list\", new_nums[:11])\n",
        "  print(\"nums list\", nums[:11])\n",
        "  print(len(nums), len(new_nums))\n",
        "\n",
        "opy_lst(nums)"
      ],
      "execution_count": 23,
      "outputs": [
        {
          "output_type": "stream",
          "name": "stdout",
          "text": [
            "new nums list [63, 98, 36, 23, 91, 52, 74, 91, 97, 96, 75]\n",
            "nums list [63, 98, 36, 23, 91, 52, 74, 91, 97, 96, 75]\n",
            "1000 1000\n"
          ]
        }
      ]
    },
    {
      "cell_type": "markdown",
      "metadata": {
        "id": "deUIFWjRe-3G"
      },
      "source": [
        "\n",
        "\n",
        "```\n",
        "# This is formatted as code\n",
        "```\n",
        "\n",
        "---\n",
        "### Exercise 5 - count the occurrence of age in characteristics\n",
        "\n",
        "Write a function which will use the list method:\n",
        "\n",
        "`list_name.count(item)`\n",
        "\n",
        "to count the number of occurrences of 'age' in the `characteristics` list.  Print the result."
      ]
    },
    {
      "cell_type": "code",
      "metadata": {
        "id": "b9TrHQ9hfoIU",
        "outputId": "b13e314f-d00a-440a-9944-c89942223e86",
        "colab": {
          "base_uri": "https://localhost:8080/"
        }
      },
      "source": [
        "def count(lst):\n",
        "  return lst.count(\"age\")\n",
        "print(count(characteristics))"
      ],
      "execution_count": 24,
      "outputs": [
        {
          "output_type": "stream",
          "name": "stdout",
          "text": [
            "272\n"
          ]
        }
      ]
    },
    {
      "cell_type": "markdown",
      "metadata": {
        "id": "zm2VI5RmfoSy"
      },
      "source": [
        "---\n",
        "### Exercise 6 - sort the nums list\n",
        "\n",
        "Write a function which will:\n",
        "*   call the function `get_num_list()` and store the result in a new list called **sort_nums**\n",
        "*   print the first, and last, 20 items in the `sort_nums` list\n",
        "*   use the `list_name.sort()` method to sort the `sort_nums` list into ascending order\n",
        "*   print the first, and last, 20 items again  \n",
        "*   use the `list_name.sort()` method again to sort the `sort_nums` list into descending order\n",
        "*   print the first, and last, 20 items again"
      ]
    },
    {
      "cell_type": "code",
      "metadata": {
        "id": "Fksgpj9JgWDs",
        "outputId": "3f89999e-c3a2-4f64-f955-32abf0ff93f2",
        "colab": {
          "base_uri": "https://localhost:8080/"
        }
      },
      "source": [
        "sort_nums = get_num_list()\n",
        "print(sort_nums[:20])\n",
        "print(sort_nums[-20:])\n",
        "\n",
        "sort_nums.sort()\n",
        "print(\"As\",sort_nums[:20])\n",
        "print(\"As\",sort_nums[-20:])\n",
        "\n",
        "sort_nums.sort(reverse=True)\n",
        "print(\"Des\",sort_nums[:20])\n",
        "print(\"Des\",sort_nums[-20:])"
      ],
      "execution_count": 34,
      "outputs": [
        {
          "output_type": "stream",
          "name": "stdout",
          "text": [
            "[8, 54, 6, 98, 58, 36, 79, 10, 68, 77, 23, 73, 9, 19, 35, 79, 22, 68, 37, 79]\n",
            "[68, 69, 93, 2, 46, 62, 9, 36, 12, 4, 60, 87, 27, 76, 56, 46, 86, 33, 67, 82]\n",
            "As [1, 1, 1, 1, 1, 1, 1, 1, 1, 2, 2, 2, 2, 2, 2, 2, 2, 2, 2, 2]\n",
            "As [98, 99, 99, 99, 99, 99, 99, 99, 99, 99, 99, 99, 99, 100, 100, 100, 100, 100, 100, 100]\n",
            "Des [100, 100, 100, 100, 100, 100, 100, 99, 99, 99, 99, 99, 99, 99, 99, 99, 99, 99, 99, 98]\n",
            "Des [2, 2, 2, 2, 2, 2, 2, 2, 2, 2, 2, 1, 1, 1, 1, 1, 1, 1, 1, 1]\n"
          ]
        }
      ]
    },
    {
      "cell_type": "markdown",
      "metadata": {
        "id": "_OF-Xuj1UrW0"
      },
      "source": [
        "---\n",
        "### Exercise 7 - get statistics (max(), min(), sum() )\n",
        "\n",
        "Write a function which will:\n",
        "*   print the maximum and minimum numbers in the `nums` list  \n",
        "*   print the sum of the `nums` list\n",
        "*   calculate and print the average of the `nums` list (using `len()` to help)"
      ]
    },
    {
      "cell_type": "code",
      "metadata": {
        "id": "9YmYMenZVGod",
        "outputId": "abe2fbe7-bfdb-46cf-9e12-d7272d60875f",
        "colab": {
          "base_uri": "https://localhost:8080/"
        }
      },
      "source": [
        "def get_stats(lst):\n",
        "  maxm = max(lst)\n",
        "  minm = min(lst)\n",
        "  summ = sum(lst)\n",
        "  avg = summ / len(lst)\n",
        "  return maxm, minm, summ, avg\n",
        "\n",
        "print(get_stats(sort_nums))"
      ],
      "execution_count": 35,
      "outputs": [
        {
          "output_type": "stream",
          "name": "stdout",
          "text": [
            "(100, 1, 51281, 51.281)\n"
          ]
        }
      ]
    },
    {
      "cell_type": "markdown",
      "metadata": {
        "id": "Mn4tHQ_KVbHa"
      },
      "source": [
        "---\n",
        "### Exercise 8 - percentage difference\n",
        "\n",
        "Write a function which will:\n",
        "*   generate a new list called **ex8_nums** using `get_num_list()`\n",
        "*   calculate and print the percentage difference between the first number in each list (as a percentage of the number in the nums list) (Hint:  find the difference between the two numbers, divide the difference by the number in `nums` and multiply by 100)\n",
        "*   calculate and print the percentage difference between the last numbers in each list in the same way\n",
        "*   calculate and print the percentage difference between the middle numbers in each list in the same way.\n",
        "*   calculate and print the percentage difference between the sums of each list in the same way"
      ]
    },
    {
      "cell_type": "code",
      "metadata": {
        "id": "nJCQjZIeZL0e",
        "outputId": "630a6ea7-145c-4058-98e7-1c960bafbe7d",
        "colab": {
          "base_uri": "https://localhost:8080/"
        }
      },
      "source": [
        "def perentage(lst):\n",
        "  ex8_nums = get_num_list()\n",
        "  first_el = ex8_nums[1]\n",
        "  first_el_lst = lst[1]\n",
        "  diff_fst = first_el - first_el_lst\n",
        "  per_fst = (diff_fst / first_el) * 100\n",
        "  last_el = ex8_nums[-1]\n",
        "  last_el_lst = lst[-1] \n",
        "  diff_lst = first_el - first_el_lst\n",
        "  per_lst= (diff_lst / first_el) * 100\n",
        "  mid_pos = len(ex8_nums)//2\n",
        "  mid_el_pos = len(lst)//2 \n",
        "  diff_mid = lst[mid_pos] - ex8_nums[mid_el_pos]\n",
        "  per_mid= (diff_mid / lst[mid_pos]) * 100\n",
        "  return per_fst, per_lst, per_mid\n",
        "  \n",
        "\n",
        "print(perentage(nums))"
      ],
      "execution_count": 36,
      "outputs": [
        {
          "output_type": "stream",
          "name": "stdout",
          "text": [
            "(-180.0, -180.0, 40.0)\n"
          ]
        }
      ]
    },
    {
      "cell_type": "markdown",
      "metadata": {
        "id": "HNs3lZmYawFO"
      },
      "source": [
        "---\n",
        "### Exercise 9 - characteristic counts\n",
        "\n",
        "Write a function which will:\n",
        "*  iterate through the `protected_characteristics` tuple and for each **characteristic**:\n",
        "*   *   count the number of occurrences of that `characteristic` in the `characteristics` list\n",
        "*   *   print the `protected_characteristic` and the **count**  \n",
        "\n",
        "Example expected output:\n",
        "\n",
        "age 100  \n",
        "disability 120  \n",
        "gender reassignment 120  \n",
        "marriage and civil partnership 111  \n",
        "pregnancy and maternity 103  \n",
        "race 106  \n",
        "religion or belief 95  \n",
        "sex 110  \n",
        "sexual orientation 113  \n",
        "\n",
        "Extra learning:  you can read [here](https://thispointer.com/python-how-to-pad-strings-with-zero-space-or-some-other-character/) how to justify the printed characteristic so that the output is organised into two columns as shown below:  \n",
        "![tabulated output](https://drive.google.com/uc?id=1CCXfX6K5ZeDefnq7vUsqxCDmqvcfY8Mz)\n",
        "\n",
        "\n",
        "\n"
      ]
    },
    {
      "cell_type": "code",
      "metadata": {
        "id": "GURT11albqUs",
        "outputId": "80f7a7e6-bead-4719-a468-a6e3183f2f04",
        "colab": {
          "base_uri": "https://localhost:8080/"
        }
      },
      "source": [
        "def char_count(protected_characteristics, characteristics):\n",
        "  # print(protected_characteristics)\n",
        "  # print(characteristics)\n",
        "  for protected_characteristic in protected_characteristics:\n",
        "    print(protected_characteristic,characteristics.count(protected_characteristic) )\n",
        "\n",
        "char_count(protected_characteristics, characteristics)"
      ],
      "execution_count": 43,
      "outputs": [
        {
          "output_type": "stream",
          "name": "stdout",
          "text": [
            "age 272\n",
            "disability 241\n",
            "gender reassignment 261\n",
            "marriage and civil partnership 228\n",
            "pregnancy and maternity 237\n",
            "race 233\n",
            "religion or belief 240\n",
            "sex 259\n",
            "sexual orientation 263\n"
          ]
        }
      ]
    },
    {
      "cell_type": "markdown",
      "metadata": {
        "id": "9Po7yQj-ds38"
      },
      "source": [
        "---\n",
        "### Exercise 10 - characteristics statistics\n",
        "\n",
        "Assuming that the `characteristics` list may have been taken from a study of cases that have been taken to court in relation to the Equality Act.  \n",
        "\n",
        "Write a function which will:\n",
        "\n",
        "*   find the most common characteristic resulting in court action, from this population\n",
        "*   print this in a message, e.g. The characteristic with the highest number of court cases is:  *characteristic*\n",
        "*   print the list of `protected_characteristics`, on one line if possible - see [here](https://www.geeksforgeeks.org/g-fact-25-print-single-multiple-variable-python/)\n",
        "*   ask the user to enter a characteristic that they would like to see statistics on and use a while loop to continue until the user has entered a valid characteristic\n",
        "*   print the characteristic, its frequency and the percentage that this frequency is of the whole population."
      ]
    },
    {
      "cell_type": "code",
      "metadata": {
        "id": "uk_I5z7UgbDs",
        "outputId": "22b4dd97-8b3b-45b2-ce37-683c9173794e",
        "colab": {
          "base_uri": "https://localhost:8080/"
        }
      },
      "source": [
        "def stats(lst):\n",
        "  most_ommon = max(set(lst), key = lst.count)\n",
        "  print(\"The characteristic with the highest number of court cases is:\", most_ommon)\n",
        "  print(protected_characteristics, end='')\n",
        "  user = input(\"Enter the characteristics you want: \")\n",
        "  while user not in characteristics:\n",
        "    user = input(\"Enter the characteristics you want: \")\n",
        "  chara_per = (len(lst) - lst.count(user))  * 100\n",
        "  print(\"characteristics count:\",lst.count(user), \"characteristics perentage:\", chara_per, \"%\" )\n",
        "\n",
        "\n",
        "\n",
        "stats(characteristics)"
      ],
      "execution_count": 50,
      "outputs": [
        {
          "output_type": "stream",
          "name": "stdout",
          "text": [
            "The characteristic with the highest number of court cases is: age\n",
            "('age', 'disability', 'gender reassignment', 'marriage and civil partnership', 'pregnancy and maternity', 'race', 'religion or belief', 'sex', 'sexual orientation')Enter the characteristics you want: sex\n",
            "characteristics count: 259 characteristics perentage: 197500 %\n"
          ]
        }
      ]
    },
    {
      "cell_type": "code",
      "source": [
        ""
      ],
      "metadata": {
        "id": "rPAt-bCIEHnY"
      },
      "execution_count": null,
      "outputs": []
    }
  ]
}